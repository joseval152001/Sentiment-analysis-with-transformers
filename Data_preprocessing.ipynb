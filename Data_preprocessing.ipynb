{
  "nbformat": 4,
  "nbformat_minor": 0,
  "metadata": {
    "colab": {
      "provenance": []
    },
    "kernelspec": {
      "name": "python3",
      "display_name": "Python 3"
    },
    "language_info": {
      "name": "python"
    }
  },
  "cells": [
    {
      "cell_type": "code",
      "execution_count": null,
      "metadata": {
        "id": "pkD92Nskuv84"
      },
      "outputs": [],
      "source": [
        "import pandas as pd\n",
        "import string"
      ]
    },
    {
      "cell_type": "code",
      "source": [
        "df = pd.read_excel(\"/content/Comentarios_consolidado_final_revisadoMECV.xlsx\")\n",
        "df.head()"
      ],
      "metadata": {
        "id": "XiQedWWWvK8-"
      },
      "execution_count": null,
      "outputs": []
    },
    {
      "cell_type": "code",
      "source": [
        "df.info()"
      ],
      "metadata": {
        "id": "GblpcpzmzRtW"
      },
      "execution_count": null,
      "outputs": []
    },
    {
      "cell_type": "code",
      "source": [
        "df = df.dropna()\n",
        "df.info()"
      ],
      "metadata": {
        "id": "o_jJwqR_2tau"
      },
      "execution_count": null,
      "outputs": []
    },
    {
      "cell_type": "code",
      "source": [
        "df = df[df['COMENTARIOS'].str.len() >= 4]\n",
        "df.info()"
      ],
      "metadata": {
        "id": "-8KEZP552y-J"
      },
      "execution_count": null,
      "outputs": []
    },
    {
      "cell_type": "code",
      "source": [
        "df[\"Categorización\"].unique()"
      ],
      "metadata": {
        "id": "929TJRR73rjL"
      },
      "execution_count": null,
      "outputs": []
    },
    {
      "cell_type": "code",
      "source": [
        "df['Categorización'] = df['Categorización'].replace({'MIXTO ': 'MIXTO', 'BUENO ': 'BUENO'})\n",
        "df[\"Categorización\"].unique()"
      ],
      "metadata": {
        "id": "Njg-mAzK35Nf"
      },
      "execution_count": null,
      "outputs": []
    },
    {
      "cell_type": "code",
      "source": [
        "df = df[df['Categorización'] != \"NO APLICA\"]\n",
        "df.info()\n",
        "df[\"Categorización\"].unique()"
      ],
      "metadata": {
        "id": "rkKpISGA4XmE"
      },
      "execution_count": null,
      "outputs": []
    },
    {
      "cell_type": "code",
      "source": [
        "df[\"Categorización\"].value_counts()"
      ],
      "metadata": {
        "id": "m_3erM404mtb"
      },
      "execution_count": null,
      "outputs": []
    },
    {
      "cell_type": "code",
      "source": [
        "# Dropping rows randomly\n",
        "value_to_drop_mixto = 'MIXTO'\n",
        "number_of_rows_to_drop_mixto = 41\n",
        "value_to_drop_malo = 'MALO'\n",
        "number_of_rows_to_drop_malo = 35\n",
        "\n",
        "# Selecting random indices of rows with the specific value\n",
        "indices_to_drop_mixto = df[df['Categorización'] == value_to_drop_mixto].sample(number_of_rows_to_drop_mixto).index\n",
        "indices_to_drop_malo = df[df['Categorización'] == value_to_drop_malo].sample(number_of_rows_to_drop_malo).index\n",
        "\n",
        "# Dropping the selected rows\n",
        "df = df.drop(indices_to_drop_mixto)\n",
        "df = df.drop(indices_to_drop_malo)\n",
        "\n",
        "df[\"Categorización\"].value_counts()"
      ],
      "metadata": {
        "id": "y-vGW7Ej7Smu"
      },
      "execution_count": null,
      "outputs": []
    },
    {
      "cell_type": "markdown",
      "source": [
        "## Lowercase"
      ],
      "metadata": {
        "id": "psW1IR-NEhkG"
      }
    },
    {
      "cell_type": "code",
      "source": [
        "df['COMENTARIOS_Lower'] = df['COMENTARIOS'].str.lower()\n",
        "df.head(10)"
      ],
      "metadata": {
        "id": "nWV9LU5c8EY3"
      },
      "execution_count": null,
      "outputs": []
    },
    {
      "cell_type": "markdown",
      "source": [
        "## Punctuation signs"
      ],
      "metadata": {
        "id": "b1NQbJ2IEk-N"
      }
    },
    {
      "cell_type": "code",
      "source": [
        "def remove_punctuation(text):\n",
        "  punctuation = '!\"#$%&\\'()*+,-./:;<=>?[\\\\]^_`{|}~'\n",
        "  spaces = ' ' * len(punctuation)\n",
        "  return text.translate(str.maketrans(punctuation, spaces))\n",
        "\n",
        "df['Comentarios_signos']= df['COMENTARIOS_Lower'].apply(lambda x:remove_punctuation(x))\n",
        "df.head(10)"
      ],
      "metadata": {
        "id": "rC452xMZEnlp"
      },
      "execution_count": null,
      "outputs": []
    },
    {
      "cell_type": "markdown",
      "source": [
        "## Stopwords"
      ],
      "metadata": {
        "id": "ki3YUyHvF__S"
      }
    },
    {
      "cell_type": "code",
      "source": [
        "pip install stop_words"
      ],
      "metadata": {
        "id": "3rjI-K9uI1gj"
      },
      "execution_count": null,
      "outputs": []
    },
    {
      "cell_type": "code",
      "source": [
        "from stop_words import get_stop_words\n",
        "\n",
        "def remove_stopwords(text):\n",
        "  stopwords = get_stop_words('es')\n",
        "  return \" \".join([word for word in text.split() if word not in stopwords])\n",
        "\n",
        "df['Comentarios_stop']= df['Comentarios_signos'].apply(lambda x:remove_stopwords(x))\n",
        "df.head()"
      ],
      "metadata": {
        "id": "dk_jlbeLGAHR"
      },
      "execution_count": null,
      "outputs": []
    },
    {
      "cell_type": "markdown",
      "source": [
        "## Accents"
      ],
      "metadata": {
        "id": "13oPBM1vGDfW"
      }
    },
    {
      "cell_type": "code",
      "source": [
        "def replaceAccents(word):\n",
        "  word = word.replace('í','i')\n",
        "  word = word.replace('ó','o')\n",
        "  word = word.replace('ò','o')\n",
        "  word = word.replace('ñ','n')\n",
        "  word = word.replace('é','e')\n",
        "  word = word.replace('è','e')\n",
        "  word = word.replace('á','a')\n",
        "  word = word.replace('à','a')\n",
        "  word = word.replace('ü','u')\n",
        "  word = word.replace('ú','u')\n",
        "  word = word.replace('ö','o')\n",
        "  word = word.replace('ë','e')\n",
        "  word = word.replace('ï','i')\n",
        "  return word\n",
        "\n",
        "df['Comentarios_tildes']= df['Comentarios_stop'].apply(lambda x:replaceAccents(x))\n",
        "df.head()"
      ],
      "metadata": {
        "id": "YJY37eqHGDoa"
      },
      "execution_count": null,
      "outputs": []
    },
    {
      "cell_type": "markdown",
      "source": [
        "## Abreviations"
      ],
      "metadata": {
        "id": "pV1RE9NpGPG3"
      }
    },
    {
      "cell_type": "code",
      "source": [
        "def processDetails(word):\n",
        "\tword = word.replace(' x ',' por ')\n",
        "\tword = word.replace(' q ', ' que ')\n",
        "\tword = word.replace(' k ', ' que ')\n",
        "\treturn word\n",
        "\n",
        "df['Comentarios_abrev']= df['Comentarios_tildes'].apply(lambda x:processDetails(x))\n",
        "df.head()"
      ],
      "metadata": {
        "id": "7MdoyeckGPQE"
      },
      "execution_count": null,
      "outputs": []
    },
    {
      "cell_type": "markdown",
      "source": [
        "## Remove letters repeated more than 3 times"
      ],
      "metadata": {
        "id": "DBqo7DQBGXPI"
      }
    },
    {
      "cell_type": "code",
      "source": [
        "import re"
      ],
      "metadata": {
        "id": "xbfPG4WHNGPl"
      },
      "execution_count": null,
      "outputs": []
    },
    {
      "cell_type": "code",
      "source": [
        "def reduce_lengthening(text):\n",
        "    pattern = re.compile(r\"(.)\\1{3,}\")\n",
        "    return pattern.sub(r\"\\1\\1\\1\", text)\n",
        "\n",
        "df['Comentarios_red']= df['Comentarios_abrev'].apply(lambda x:reduce_lengthening(x))\n",
        "df.head()"
      ],
      "metadata": {
        "id": "nhtcW_ByGXYX"
      },
      "execution_count": null,
      "outputs": []
    },
    {
      "cell_type": "markdown",
      "source": [
        "## Drop numbers and more than one gap in the sentence"
      ],
      "metadata": {
        "id": "hNKSYhPTNNrY"
      }
    },
    {
      "cell_type": "code",
      "source": [
        "numbers = re.compile(r'[0-9]+')\n",
        "\n",
        "def clean(text):\n",
        "    text = numbers.sub(r'', text)\n",
        "    text = re.sub(' +', ' ', text)\n",
        "    text = text.strip()\n",
        "    return text\n",
        "\n",
        "df['Comentarios_limpios']= df['Comentarios_red'].apply(lambda x:processDetails(x))\n",
        "df.head()"
      ],
      "metadata": {
        "id": "XHwKqgIMNN5K"
      },
      "execution_count": null,
      "outputs": []
    },
    {
      "cell_type": "code",
      "source": [
        "df = df[[\"COMENTARIOS\", \"Comentarios_signos\", \"Categorización\", \"Comentarios_limpios\"]]\n",
        "df.head()"
      ],
      "metadata": {
        "id": "rm66l7J0OXWd"
      },
      "execution_count": null,
      "outputs": []
    },
    {
      "cell_type": "code",
      "source": [
        "import numpy as np\n",
        "from sklearn.model_selection import train_test_split\n",
        "\n",
        "# Assuming 'data' is your dataset and 'categories' is the column containing categories\n",
        "# Step 1: Identify the categories\n",
        "unique_categories = df['Categorización'].unique()\n",
        "\n",
        "# Step 2: Split Data by Category\n",
        "category_data = {}\n",
        "for category in unique_categories:\n",
        "    category_data[category] = df[df['Categorización'] == category]\n",
        "\n",
        "# Step 3: Shuffle the Data\n",
        "for category in unique_categories:\n",
        "    category_data[category] = category_data[category].sample(frac=1).reset_index(drop=True)\n",
        "\n",
        "# Step 4: Determine Split Ratios\n",
        "train_ratio = 0.6\n",
        "validation_ratio = 0.2\n",
        "test_ratio = 0.2\n",
        "\n",
        "# Step 5: Split Data Equally\n",
        "train_data = []\n",
        "validation_data = []\n",
        "test_data = []\n",
        "for category in unique_categories:\n",
        "    n = len(category_data[category])\n",
        "    train, validate, test = np.split(category_data[category], [int(train_ratio * n), int((train_ratio + validation_ratio) * n)])\n",
        "    train_data.append(train)\n",
        "    validation_data.append(validate)\n",
        "    test_data.append(test)\n",
        "\n",
        "# Merge the split data from different categories\n",
        "train_data = pd.concat(train_data)\n",
        "validation_data = pd.concat(validation_data)\n",
        "test_data = pd.concat(test_data)\n"
      ],
      "metadata": {
        "id": "Mmay1vevy9CV"
      },
      "execution_count": null,
      "outputs": []
    },
    {
      "cell_type": "code",
      "source": [
        "print(\"Train data info:\")\n",
        "train_data.info()\n",
        "\n",
        "print(\"Validation data info:\")\n",
        "validation_data.info()\n",
        "\n",
        "print(\"Test data info:\")\n",
        "test_data.info()"
      ],
      "metadata": {
        "id": "xZ-nC5KMz9Wm"
      },
      "execution_count": null,
      "outputs": []
    },
    {
      "cell_type": "code",
      "source": [
        "train_data.head()"
      ],
      "metadata": {
        "id": "K5EAPutnzmOs"
      },
      "execution_count": null,
      "outputs": []
    },
    {
      "cell_type": "code",
      "source": [
        "train_data.to_excel(\"Train_set.xlsx\", index=False)"
      ],
      "metadata": {
        "id": "5fheZZZCWLSM"
      },
      "execution_count": null,
      "outputs": []
    },
    {
      "cell_type": "code",
      "source": [
        "validation_data.head()"
      ],
      "metadata": {
        "id": "uBt2TfYj0oke"
      },
      "execution_count": null,
      "outputs": []
    },
    {
      "cell_type": "code",
      "source": [
        "validation_data.to_excel(\"Validation_set.xlsx\", index=False)"
      ],
      "metadata": {
        "id": "RAOwOGxmWMak"
      },
      "execution_count": null,
      "outputs": []
    },
    {
      "cell_type": "code",
      "source": [
        "test_data.head()"
      ],
      "metadata": {
        "id": "SLX0JjO10son"
      },
      "execution_count": null,
      "outputs": []
    },
    {
      "cell_type": "code",
      "source": [
        "test_data.to_excel(\"Test_set.xlsx\", index=False)"
      ],
      "metadata": {
        "id": "BdCOjyCSGviL"
      },
      "execution_count": null,
      "outputs": []
    }
  ]
}